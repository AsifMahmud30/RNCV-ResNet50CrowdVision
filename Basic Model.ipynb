{
 "cells": [
  {
   "cell_type": "code",
   "execution_count": null,
   "id": "8c95fecd",
   "metadata": {},
   "outputs": [],
   "source": [
    "import torch\n",
    "import torch.nn as nn\n",
    "import torchvision.models as models\n",
    "\n",
    "class CrowdCounter(nn.Module):\n",
    "    def __init__(self):\n",
    "        super(CrowdCounter, self).__init__()\n",
    "        \n",
    "        # Load pre-trained ResNet-50 model as the backbone\n",
    "        resnet = models.resnet50(pretrained=True)\n",
    "        \n",
    "        # Remove the fully connected layer and average pooling layer\n",
    "        modules = list(resnet.children())[:-2]\n",
    "        self.backbone = nn.Sequential(*modules)\n",
    "        \n",
    "        # Add custom regression head layers\n",
    "        self.fc1 = nn.Linear(2048, 512)\n",
    "        self.fc2 = nn.Linear(512, 1)\n",
    "        self.relu = nn.ReLU()\n",
    "        self.dropout = nn.Dropout(p=0.5)\n",
    "        \n",
    "    def forward(self, x):\n",
    "        x = self.backbone(x)\n",
    "        x = x.view(x.size(0), -1)\n",
    "        x = self.fc1(x)\n",
    "        x = self.relu(x)\n",
    "        x = self.dropout(x)\n",
    "        x = self.fc2(x)\n",
    "        return x\n"
   ]
  }
 ],
 "metadata": {
  "kernelspec": {
   "display_name": "CustomEnv (Python 3.10)",
   "language": "python",
   "name": "customenv"
  },
  "language_info": {
   "codemirror_mode": {
    "name": "ipython",
    "version": 3
   },
   "file_extension": ".py",
   "mimetype": "text/x-python",
   "name": "python",
   "nbconvert_exporter": "python",
   "pygments_lexer": "ipython3",
   "version": "3.10.9"
  }
 },
 "nbformat": 4,
 "nbformat_minor": 5
}
